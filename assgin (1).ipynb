{
 "cells": [
  {
   "cell_type": "markdown",
   "id": "42a7a525",
   "metadata": {},
   "source": [
    "1.\n",
    "Calculate area of circle\n"
   ]
  },
  {
   "cell_type": "code",
   "execution_count": 2,
   "id": "6735e972",
   "metadata": {},
   "outputs": [
    {
     "name": "stdout",
     "output_type": "stream",
     "text": [
      "Enter the radis22\n",
      " area is 1519.76\n"
     ]
    }
   ],
   "source": [
    "\n",
    "radius = int(input(\"Enter the radis\"))\n",
    "area = 3.14*(radius **2)\n",
    "print(f\" area is {area}\")"
   ]
  },
  {
   "cell_type": "markdown",
   "id": "64e78507",
   "metadata": {},
   "source": [
    "2. Find circumference of circle"
   ]
  },
  {
   "cell_type": "code",
   "execution_count": 4,
   "id": "6f9e58b2",
   "metadata": {},
   "outputs": [
    {
     "name": "stdout",
     "output_type": "stream",
     "text": [
      "Enter the radis45\n",
      " circumference  is 282.7433388230814\n"
     ]
    }
   ],
   "source": [
    "import math\n",
    "radius = float(input(\"Enter the radis\"))\n",
    "circum = 2*math.pi*radius\n",
    "print(f\" circumference  is {circum}\")"
   ]
  },
  {
   "cell_type": "markdown",
   "id": "71fa76e6",
   "metadata": {},
   "source": [
    "3. Calculate area of rectangle"
   ]
  },
  {
   "cell_type": "code",
   "execution_count": 12,
   "id": "e7f7fd71",
   "metadata": {},
   "outputs": [
    {
     "name": "stdout",
     "output_type": "stream",
     "text": [
      "enter the length5\n",
      "enter the breadth5\n",
      "area is 25.0\n"
     ]
    }
   ],
   "source": [
    "length=float(input(\"enter the length\"))\n",
    "breth = float(input(\"enter the breadth\"))\n",
    "area = length*breth\n",
    "print(f\"area is {area}\")"
   ]
  },
  {
   "cell_type": "markdown",
   "id": "21f92303",
   "metadata": {},
   "source": [
    "4. Calculate volume of sphere"
   ]
  },
  {
   "cell_type": "code",
   "execution_count": 4,
   "id": "c49aa82f",
   "metadata": {},
   "outputs": [
    {
     "name": "stdout",
     "output_type": "stream",
     "text": [
      "Enter the radis2\n",
      "area is 25.132741228718345\n"
     ]
    }
   ],
   "source": [
    "import math\n",
    "radius = float(input(\"Enter the radis\"))\n",
    "area = (4 * (math.pi* radius*3))/3\n",
    "print(f\"area is {area}\")"
   ]
  },
  {
   "cell_type": "markdown",
   "id": "918fecba",
   "metadata": {},
   "source": [
    "5. Find surface area of sphere"
   ]
  },
  {
   "cell_type": "code",
   "execution_count": 3,
   "id": "1a3edb56",
   "metadata": {},
   "outputs": [
    {
     "name": "stdout",
     "output_type": "stream",
     "text": [
      "Enter the radis55\n",
      "area of sphere is2090729.9109640073\n"
     ]
    }
   ],
   "source": [
    "import math\n",
    "radius = float(input(\"Enter the radis\"))\n",
    "area = 4*math.pi * radius**3\n",
    "print(f\"area of sphere is{area}\")"
   ]
  },
  {
   "cell_type": "markdown",
   "id": "c483b0ea",
   "metadata": {},
   "source": [
    "\n",
    "6. Find area of square"
   ]
  },
  {
   "cell_type": "code",
   "execution_count": 5,
   "id": "8afe6a11",
   "metadata": {},
   "outputs": [
    {
     "name": "stdout",
     "output_type": "stream",
     "text": [
      "enter the side of square2\n",
      "area is 4\n"
     ]
    }
   ],
   "source": [
    "side = int(input(\"enter the side of square\"))\n",
    "area = side*2\n",
    "print(f\"area of square is {area}\")"
   ]
  },
  {
   "cell_type": "markdown",
   "id": "51f5fa4d",
   "metadata": {},
   "source": [
    "7. Find area of right angle triangle\n"
   ]
  },
  {
   "cell_type": "code",
   "execution_count": 6,
   "id": "a455a9af",
   "metadata": {},
   "outputs": [
    {
     "name": "stdout",
     "output_type": "stream",
     "text": [
      "enter the length4\n",
      "enter the breadth5\n",
      "area is 10.0\n"
     ]
    }
   ],
   "source": [
    "base=float(input(\"enter the base\"))\n",
    "height = float(input(\"enter the height\"))\n",
    "area =  (base*height)/2\n",
    "print(f\"area is {area}\")"
   ]
  },
  {
   "cell_type": "markdown",
   "id": "2c75cf03",
   "metadata": {},
   "source": [
    "8. Find area of equilateral triangle"
   ]
  },
  {
   "cell_type": "code",
   "execution_count": 9,
   "id": "94cf7c7e",
   "metadata": {},
   "outputs": [
    {
     "name": "stdout",
     "output_type": "stream",
     "text": [
      "enter the side of square2\n",
      "area is 1.7320508075688772\n"
     ]
    }
   ],
   "source": [
    "import math\n",
    "side = int(input(\"enter the side length of eui triangle\"))\n",
    "area = (math.sqrt(3)*side**2)/4\n",
    "print(f\"area is {area}\")"
   ]
  },
  {
   "cell_type": "markdown",
   "id": "230e4c36",
   "metadata": {},
   "source": [
    "9. Find perimeter of rectangle"
   ]
  },
  {
   "cell_type": "code",
   "execution_count": 1,
   "id": "a59787e4",
   "metadata": {},
   "outputs": [
    {
     "name": "stdout",
     "output_type": "stream",
     "text": [
      "enter the length4\n",
      "enter the breadth4\n",
      "area is 16.0\n"
     ]
    }
   ],
   "source": [
    "length=float(input(\"enter the length\"))\n",
    "breth = float(input(\"enter the breadth\"))\n",
    "area = 2*(length+breth)\n",
    "print(f\"perimeter is  {area}\")"
   ]
  },
  {
   "cell_type": "markdown",
   "id": "2e8c631b",
   "metadata": {},
   "source": [
    "10. Find area of triangle"
   ]
  },
  {
   "cell_type": "code",
   "execution_count": 5,
   "id": "c7c66b3b",
   "metadata": {},
   "outputs": [
    {
     "name": "stdout",
     "output_type": "stream",
     "text": [
      "enter the side14\n",
      "enter the side24\n",
      "enter the side35\n",
      "area is 7.806247497997997\n"
     ]
    }
   ],
   "source": [
    "import math\n",
    "side1=int(input(\"enter the side1\"))\n",
    "side2= int(input(\"enter the side2\"))\n",
    "side3= int(input(\"enter the side3\"))\n",
    "semip = (side1+side2+side3)/2  # semiperimeter\n",
    "area = semip*((semip -side1)*(semip -side2)*(semip -side3))\n",
    "area_t= math.sqrt(area)             \n",
    "\n",
    "print(f\"area is {area_t}\")"
   ]
  },
  {
   "cell_type": "markdown",
   "id": "220d5748",
   "metadata": {},
   "source": [
    "11. Find simple interest"
   ]
  },
  {
   "cell_type": "code",
   "execution_count": 6,
   "id": "e4b54862",
   "metadata": {},
   "outputs": [
    {
     "name": "stdout",
     "output_type": "stream",
     "text": [
      "enter the principle amount1000\n",
      "enter the rate 4\n",
      "enter the time2\n",
      "simple is interest  80.0\n"
     ]
    }
   ],
   "source": [
    "principle= float(input(\"enter the principle amount\"))\n",
    "rate = float(input(\"enter the rate \"))\n",
    "time =int(input(\"enter the time\"))\n",
    "si= (principle*rate*time)/100\n",
    "print(f\"simple is interest  {si}\")\n"
   ]
  },
  {
   "cell_type": "markdown",
   "id": "f3a44070",
   "metadata": {},
   "source": [
    "12. Find compound interest"
   ]
  },
  {
   "cell_type": "code",
   "execution_count": 10,
   "id": "9d31ea98",
   "metadata": {
    "scrolled": true
   },
   "outputs": [
    {
     "name": "stdout",
     "output_type": "stream",
     "text": [
      "enter the principle amount10000\n",
      "enter the rate 10\n",
      "enter the time5\n",
      "simple is interest  6105.100000000006\n"
     ]
    }
   ],
   "source": [
    "principle= float(input(\"enter the principle amount\"))\n",
    "rate = float(input(\"enter the rate \"))\n",
    "time =int(input(\"enter the time\"))\n",
    "ci= principle*((100+rate)/100)**time - principle\n",
    "print(f\"simple is interest  {ci}\")"
   ]
  },
  {
   "cell_type": "markdown",
   "id": "ccb5c3cf",
   "metadata": {},
   "source": [
    "13. Convert days into years"
   ]
  },
  {
   "cell_type": "code",
   "execution_count": 14,
   "id": "027079b3",
   "metadata": {},
   "outputs": [
    {
     "name": "stdout",
     "output_type": "stream",
     "text": [
      "enter the no of days1650\n",
      "the day into year is 5\n"
     ]
    }
   ],
   "source": [
    "days = int(input(\"enter the no of days\"))\n",
    "day_year = round(days/365)\n",
    "print(f\"the day into year is {day_year}\")"
   ]
  },
  {
   "cell_type": "markdown",
   "id": "5398894c",
   "metadata": {},
   "source": [
    "14. Fahrenheit to Celsius conversion"
   ]
  },
  {
   "cell_type": "code",
   "execution_count": 18,
   "id": "2bf33cb0",
   "metadata": {},
   "outputs": [
    {
     "name": "stdout",
     "output_type": "stream",
     "text": [
      "enter the degree1\n",
      "the fahrenheit in celcius is -17.22222222222222\n"
     ]
    }
   ],
   "source": [
    "fahren = int(input(\"enter the degree\"))\n",
    "celcius = ((fahren-32)*5/9)\n",
    "print(f\"the fahrenheit in celcius is {celcius}\")"
   ]
  },
  {
   "cell_type": "code",
   "execution_count": null,
   "id": "72b42385",
   "metadata": {},
   "outputs": [],
   "source": []
  }
 ],
 "metadata": {
  "kernelspec": {
   "display_name": "Python 3 (ipykernel)",
   "language": "python",
   "name": "python3"
  },
  "language_info": {
   "codemirror_mode": {
    "name": "ipython",
    "version": 3
   },
   "file_extension": ".py",
   "mimetype": "text/x-python",
   "name": "python",
   "nbconvert_exporter": "python",
   "pygments_lexer": "ipython3",
   "version": "3.9.12"
  }
 },
 "nbformat": 4,
 "nbformat_minor": 5
}
