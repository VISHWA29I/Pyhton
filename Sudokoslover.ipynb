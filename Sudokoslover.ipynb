{
 "cells": [
  {
   "cell_type": "code",
   "execution_count": 2,
   "id": "6172a9a0-1b31-49d7-996a-b29abc66b8fe",
   "metadata": {},
   "outputs": [
    {
     "data": {
      "text/plain": [
       "[[5, 3, 0, 0, 7, 0, 0, 0, 0],\n",
       " [6, 0, 0, 1, 9, 5, 0, 0, 0],\n",
       " [0, 9, 8, 0, 0, 0, 0, 6, 0],\n",
       " [8, 0, 0, 0, 6, 0, 0, 0, 3],\n",
       " [4, 0, 0, 8, 0, 3, 0, 0, 0],\n",
       " [7, 0, 0, 0, 2, 0, 0, 0, 6],\n",
       " [0, 6, 0, 0, 0, 0, 2, 8, 0],\n",
       " [0, 0, 0, 4, 1, 9, 0, 0, 5],\n",
       " [0, 0, 0, 0, 8, 0, 0, 7, 9]]"
      ]
     },
     "execution_count": 2,
     "metadata": {},
     "output_type": "execute_result"
    }
   ],
   "source": [
    "puzzele1 =[[5,3,0,0,7,0,0,0,0],\n",
    "          [6,0,0,1,9,5,0,0,0],\n",
    "          [0,9,8,0,0,0,0,6,0],\n",
    "          [8,0,0,0,6,0,0,0,3],\n",
    "          [4,0,0,8,0,3,0,0,1],\n",
    "          [7,0,0,0,2,0,0,0,6],\n",
    "          [0,6,0,0,0,0,2,8,0],\n",
    "          [0,0,0,4,1,9,0,0,5],\n",
    "          [0,0,0,0,8,0,0,7,9]]\n",
    "\n",
    "puzzele1"
   ]
  },
  {
   "cell_type": "code",
   "execution_count": 4,
   "id": "a6256140-10f9-4f6f-b431-9cd235cb05c8",
   "metadata": {},
   "outputs": [
    {
     "data": {
      "text/plain": [
       "9"
      ]
     },
     "execution_count": 4,
     "metadata": {},
     "output_type": "execute_result"
    }
   ],
   "source": [
    "len(puzzele1)  # 9 rows and 9 columns"
   ]
  },
  {
   "cell_type": "code",
   "execution_count": 8,
   "id": "3fb9abb8-11b0-4116-83b2-06ec08a4e554",
   "metadata": {},
   "outputs": [
    {
     "data": {
      "text/plain": [
       "9"
      ]
     },
     "execution_count": 8,
     "metadata": {},
     "output_type": "execute_result"
    }
   ],
   "source": [
    "len(puzzele1[1])  # make sure same length "
   ]
  },
  {
   "cell_type": "code",
   "execution_count": 12,
   "id": "db994455-3eca-486a-abf1-0aac393aa3c3",
   "metadata": {},
   "outputs": [
    {
     "data": {
      "text/plain": [
       "8"
      ]
     },
     "execution_count": 12,
     "metadata": {},
     "output_type": "execute_result"
    }
   ],
   "source": [
    "puzzele1[2][2] # row 2 and column 2 "
   ]
  },
  {
   "cell_type": "code",
   "execution_count": 16,
   "id": "3601e389-5299-4fd3-8013-1d974d0f97d1",
   "metadata": {},
   "outputs": [
    {
     "data": {
      "text/plain": [
       "[[5, 3, 4, 6, 7, 8, 9, 1, 2],\n",
       " [6, 7, 2, 1, 9, 5, 3, 4, 8],\n",
       " [1, 9, 8, 3, 4, 2, 5, 6, 7],\n",
       " [8, 5, 9, 7, 6, 1, 4, 2, 3],\n",
       " [4, 2, 6, 8, 5, 3, 7, 9, 1],\n",
       " [7, 1, 3, 9, 2, 4, 8, 5, 6],\n",
       " [9, 6, 1, 5, 3, 7, 2, 8, 4],\n",
       " [2, 8, 7, 4, 1, 9, 6, 3, 5],\n",
       " [3, 4, 5, 2, 8, 6, 1, 7, 9]]"
      ]
     },
     "execution_count": 16,
     "metadata": {},
     "output_type": "execute_result"
    }
   ],
   "source": [
    "solution1 =[[5,3,4,6,7,8,9,1,2],\n",
    "           [6,7,2,1,9,5,3,4,8],\n",
    "           [1,9,8,3,4,2,5,6,7],\n",
    "           [8,5,9,7,6,1,4,2,3],\n",
    "           [4,2,6,8,5,3,7,9,1],\n",
    "           [7,1,3,9,2,4,8,5,6],\n",
    "           [9,6,1,5,3,7,2,8,4],\n",
    "           [2,8,7,4,1,9,6,3,5],\n",
    "           [3,4,5,2,8,6,1,7,9]]\n",
    "\n",
    "solution1"
   ]
  },
  {
   "cell_type": "code",
   "execution_count": 20,
   "id": "060fc70e-c3c1-41e5-9302-b9b42c1fc969",
   "metadata": {},
   "outputs": [
    {
     "data": {
      "text/plain": [
       "True"
      ]
     },
     "execution_count": 20,
     "metadata": {},
     "output_type": "execute_result"
    }
   ],
   "source": [
    "len(solution1) ==9 and len(solution1[0]) ==9"
   ]
  },
  {
   "cell_type": "code",
   "execution_count": 24,
   "id": "4adfaa28-1175-4dae-b707-327a6c84ae22",
   "metadata": {},
   "outputs": [
    {
     "data": {
      "text/plain": [
       "[8, 5, 9, 7, 6, 1, 4, 2, 3]"
      ]
     },
     "execution_count": 24,
     "metadata": {},
     "output_type": "execute_result"
    }
   ],
   "source": [
    "# row 3\n",
    "row3 =solution1[3]\n",
    "row3"
   ]
  },
  {
   "cell_type": "code",
   "execution_count": 32,
   "id": "d0490168-21b6-4a77-afc4-34720654e843",
   "metadata": {},
   "outputs": [
    {
     "data": {
      "text/plain": [
       "3"
      ]
     },
     "execution_count": 32,
     "metadata": {},
     "output_type": "execute_result"
    }
   ],
   "source": [
    "val_last_zero = solution1[-1][0]\n",
    "val_last_zero"
   ]
  },
  {
   "cell_type": "code",
   "execution_count": 34,
   "id": "56e5fdd0-c318-4ab5-99e3-2df75caddba6",
   "metadata": {},
   "outputs": [
    {
     "data": {
      "text/plain": [
       "[[5, 3, 0, 0, 7, 0, 0, 0, 0],\n",
       " [6, 0, 0, 1, 9, 5, 0, 0, 0],\n",
       " [0, 9, 8, 0, 0, 0, 0, 6, 0],\n",
       " [8, 0, 0, 0, 6, 0, 0, 0, 3],\n",
       " [4, 0, 0, 8, 0, 3, 0, 0, 0],\n",
       " [7, 0, 0, 0, 2, 0, 0, 0, 6],\n",
       " [0, 6, 0, 0, 0, 0, 2, 8, 0],\n",
       " [0, 0, 0, 4, 1, 9, 0, 0, 5],\n",
       " [0, 0, 0, 0, 8, 0, 0, 7, 9]]"
      ]
     },
     "execution_count": 34,
     "metadata": {},
     "output_type": "execute_result"
    }
   ],
   "source": [
    "\n",
    "puzzele1"
   ]
  },
  {
   "cell_type": "code",
   "execution_count": 40,
   "id": "f2b3035d-90cc-4328-b75a-f662f83c196c",
   "metadata": {},
   "outputs": [],
   "source": [
    "# to extract row\n",
    "def get_row(sudoko,k):\n",
    "    return sudoko[k]\n",
    "    "
   ]
  },
  {
   "cell_type": "code",
   "execution_count": 42,
   "id": "e6e204b6-6ad9-4a44-9d5a-d7a2164f5809",
   "metadata": {},
   "outputs": [
    {
     "data": {
      "text/plain": [
       "[0, 9, 8, 0, 0, 0, 0, 6, 0]"
      ]
     },
     "execution_count": 42,
     "metadata": {},
     "output_type": "execute_result"
    }
   ],
   "source": [
    "get_row(puzzele1,2)"
   ]
  },
  {
   "cell_type": "code",
   "execution_count": 50,
   "id": "03e88e99-0e6c-4049-a815-b46bbf678813",
   "metadata": {},
   "outputs": [
    {
     "data": {
      "text/plain": [
       "[8, 5, 9, 7, 6, 1, 4, 2, 3]"
      ]
     },
     "execution_count": 50,
     "metadata": {},
     "output_type": "execute_result"
    }
   ],
   "source": [
    "get_row(solution1,3)"
   ]
  },
  {
   "cell_type": "code",
   "execution_count": 46,
   "id": "6056babc-5537-4aaf-a0f1-caebd907faca",
   "metadata": {},
   "outputs": [],
   "source": [
    "# cloumns\n",
    "def get_col(sudoko,k):\n",
    "    result =[]\n",
    "    for i in range(9):\n",
    "        result.append(sudoko[i][k])\n",
    "    return result\n",
    "    # we can also use list comprehension \n",
    "    # \n",
    "    # sudoko[sudoko[0][k],sudoko[1][k]sudoko[2][k],....]"
   ]
  },
  {
   "cell_type": "code",
   "execution_count": 48,
   "id": "49aea131-45a1-4682-b8b7-bcf211b09d81",
   "metadata": {},
   "outputs": [
    {
     "data": {
      "text/plain": [
       "[8, 5, 2, 1, 3, 4, 7, 9, 6]"
      ]
     },
     "execution_count": 48,
     "metadata": {},
     "output_type": "execute_result"
    }
   ],
   "source": [
    "get_col(solution1,5)"
   ]
  },
  {
   "cell_type": "code",
   "execution_count": null,
   "id": "8c478352-bc23-443d-8cd3-eeda0dc51290",
   "metadata": {},
   "outputs": [],
   "source": []
  }
 ],
 "metadata": {
  "kernelspec": {
   "display_name": "Python 3 (ipykernel)",
   "language": "python",
   "name": "python3"
  },
  "language_info": {
   "codemirror_mode": {
    "name": "ipython",
    "version": 3
   },
   "file_extension": ".py",
   "mimetype": "text/x-python",
   "name": "python",
   "nbconvert_exporter": "python",
   "pygments_lexer": "ipython3",
   "version": "3.12.4"
  }
 },
 "nbformat": 4,
 "nbformat_minor": 5
}
